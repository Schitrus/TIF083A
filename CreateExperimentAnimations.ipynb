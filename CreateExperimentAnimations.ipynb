{
 "cells": [
  {
   "cell_type": "code",
   "execution_count": null,
   "metadata": {},
   "outputs": [],
   "source": [
    "import os\n",
    "\n",
    "from animate_experiment import ExperimentGrapher\n",
    "\n",
    "folders = ['Dag1', 'Dag2', 'S5', 'S6', 'S7', 'S8', 'S9', 'S10', 'S11']\n",
    "\n",
    "for folder in folders:\n",
    "    dir = 'data/' + folder\n",
    "\n",
    "    # Generate animations for all tsv files in data folder\n",
    "    for root, dirs, files in os.walk(dir):\n",
    "        for file in files:\n",
    "            if file.endswith('.tsv') and file.find('mag') == -1: # Ignore magnitudes data\n",
    "                print(\"Generating animation from tsv file: \", file)\n",
    "                grapher = ExperimentGrapher(root + '/' + file)\n",
    "                grapher.generate()\n",
    "                grapher.save_animation('output')\n",
    "\n"
   ]
  },
  {
   "cell_type": "code",
   "execution_count": null,
   "metadata": {},
   "outputs": [],
   "source": []
  }
 ],
 "metadata": {
  "kernelspec": {
   "display_name": "Python 3",
   "language": "python",
   "name": "python3"
  },
  "language_info": {
   "codemirror_mode": {
    "name": "ipython",
    "version": 3
   },
   "file_extension": ".py",
   "mimetype": "text/x-python",
   "name": "python",
   "nbconvert_exporter": "python",
   "pygments_lexer": "ipython3",
   "version": "3.11.0"
  }
 },
 "nbformat": 4,
 "nbformat_minor": 2
}
