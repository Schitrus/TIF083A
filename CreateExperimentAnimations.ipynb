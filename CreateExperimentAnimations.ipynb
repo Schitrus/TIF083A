{
 "cells": [
  {
   "cell_type": "code",
   "execution_count": null,
   "metadata": {},
   "outputs": [],
   "source": [
    "import os\n",
    "\n",
    "from animate_experiment import generate_animation\n",
    "\n",
    "dir = 'data/S9'\n",
    "\n",
    "# Generate animations for all tsv files in data folder\n",
    "for root, dirs, files in os.walk(dir):\n",
    "    for file in files:\n",
    "        if file.endswith('.tsv') and file.find('mag') == -1: # Ignore magnitudes data\n",
    "            print(\"Generating animation from tsv file: \", file)\n",
    "            ani = generate_animation(root + '/' + file, 1.0, 1.0, 0.0, 1.0)\n",
    "            ani.save(f'output/{file}.gif')\n",
    "\n"
   ]
  }
 ],
 "metadata": {
  "kernelspec": {
   "display_name": "Python 3",
   "language": "python",
   "name": "python3"
  },
  "language_info": {
   "codemirror_mode": {
    "name": "ipython",
    "version": 3
   },
   "file_extension": ".py",
   "mimetype": "text/x-python",
   "name": "python",
   "nbconvert_exporter": "python",
   "pygments_lexer": "ipython3",
   "version": "3.11.0"
  }
 },
 "nbformat": 4,
 "nbformat_minor": 2
}
