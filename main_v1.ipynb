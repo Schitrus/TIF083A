{
 "cells": [
  {
   "cell_type": "code",
   "execution_count": null,
   "metadata": {},
   "outputs": [
    {
     "name": "stdout",
     "output_type": "stream",
     "text": [
      "Markers Dict: {'v60.9cm': array([[315.034, 182.188, 196.172],\n",
      "       [315.062, 182.383, 196.183],\n",
      "       [315.069, 182.586, 196.179],\n",
      "       ...,\n",
      "       [299.973, -76.535, 195.378],\n",
      "       [299.981, -76.74 , 195.369],\n",
      "       [300.001, -76.946, 195.427]]), 'h31.4cm': array([[355.735, 898.871, 197.363],\n",
      "       [355.637, 897.622, 197.379],\n",
      "       [355.66 , 896.352, 197.356],\n",
      "       ...,\n",
      "       [322.712, 328.888, 196.67 ],\n",
      "       [322.713, 328.896, 196.656],\n",
      "       [322.705, 328.896, 196.656]])}\n",
      "Time Array: [0.000e+00 2.000e-03 4.000e-03 ... 4.054e+00 4.056e+00 4.058e+00]\n",
      "Masses Dict: {'v60.9': 0.0609, 'h31.4': 0.0314}\n",
      "Object: v60.9\n",
      "Momentum:\n",
      "[[ 0.8526   5.93775  0.33495]\n",
      " [ 0.21315  6.18135 -0.1218 ]\n",
      " [ 0.8526   5.8464  -0.4263 ]\n",
      " ...\n",
      " [ 0.2436  -6.24225 -0.27405]\n",
      " [ 0.609   -6.2727   1.7661 ]\n",
      " [ 0.609   -6.2727   1.7661 ]]\n",
      "Kinetic Energy:\n",
      "[296.354625 314.198325 288.08745  ... 321.019125 351.6975   351.6975  ]\n",
      "Angular Momentum: Not calculated for 1D data\n",
      "\n",
      "\n",
      "Object: h31.4\n",
      "Momentum:\n",
      "[[-1.53860e+00 -1.96093e+01  2.51200e-01]\n",
      " [ 3.61100e-01 -1.99390e+01 -3.61100e-01]\n",
      " [-1.09900e+00 -1.95936e+01  1.00480e+00]\n",
      " ...\n",
      " [ 1.57000e-02  1.25600e-01 -2.19800e-01]\n",
      " [-1.25600e-01  0.00000e+00  0.00000e+00]\n",
      " [-1.25600e-01  0.00000e+00  0.00000e+00]]\n",
      "Kinetic Energy:\n",
      "[6.16170443e+03 6.33478515e+03 6.14851250e+03 ... 1.02442500e+00\n",
      " 2.51200000e-01 2.51200000e-01]\n",
      "Angular Momentum: Not calculated for 1D data\n",
      "\n",
      "\n"
     ]
    }
   ],
   "source": [
    "import numpy as np\n",
    "from parse_script import parse_marker_data\n",
    "from calculations import compute_quantities\n",
    "from visualization import plot_trajectories\n",
    "\n",
    "# filepath = 'data/Dag1/1Drm_h23-3g_4.tsv'\n",
    "filepath = 'data/Dag1/1Drm_v60_9g_h31-4g_1.tsv'\n",
    "# filepath = 'data/s10rmm/S10rmm_v82-2g_h82-4g_2.tsv'\n",
    "# filepath = 'data/S11/s11rmermm.tsv'\n",
    "markers_dict, time, masses = parse_marker_data(filepath)\n",
    "\n",
    "results = compute_quantities(markers_dict, time, masses)\n",
    "\n",
    "for obj, data in results.items():\n",
    "    print(f\"Object: {obj}\")\n",
    "    print(f\"Momentum:\\n{data['momentum']}\")\n",
    "    print(f\"Kinetic Energy:\\n{data['kinetic_energy']}\")\n",
    "    if data['angular_momentum'] is not None:\n",
    "        print(f\"Angular Momentum:\\n{data['angular_momentum']}\")\n",
    "    else:\n",
    "        print(\"Angular Momentum: Not calculated for 1D data\")\n",
    "    print(\"\\n\")\n"
   ]
  },
  {
   "cell_type": "code",
   "execution_count": null,
   "metadata": {},
   "outputs": [],
   "source": []
  }
 ],
 "metadata": {
  "kernelspec": {
   "display_name": "base",
   "language": "python",
   "name": "python3"
  },
  "language_info": {
   "codemirror_mode": {
    "name": "ipython",
    "version": 3
   },
   "file_extension": ".py",
   "mimetype": "text/x-python",
   "name": "python",
   "nbconvert_exporter": "python",
   "pygments_lexer": "ipython3",
   "version": "3.12.4"
  }
 },
 "nbformat": 4,
 "nbformat_minor": 2
}
